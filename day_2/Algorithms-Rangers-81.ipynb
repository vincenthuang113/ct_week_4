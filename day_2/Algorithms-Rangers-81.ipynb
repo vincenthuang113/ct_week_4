{
 "cells": [
  {
   "cell_type": "markdown",
   "metadata": {},
   "source": [
    "# Cl"
   ]
  },
  {
   "cell_type": "markdown",
   "metadata": {},
   "source": [
    "## Tasks Today:\n",
    " \n",
    "1) <b>In-Place Algorithms</b> <br>\n",
    " &nbsp;&nbsp;&nbsp;&nbsp; a) Syntax <br>\n",
    " &nbsp;&nbsp;&nbsp;&nbsp; a) Out of Place Algorithm <br>\n",
    " &nbsp;&nbsp;&nbsp;&nbsp; b) In-Class Exercise #1 <br>\n",
    "2) <b>Two Pointers</b> <br>\n",
    "3) <b>Linked Lists</b> <br>\n",
    "4) <b>Merge Sort</b> <br>\n",
    " &nbsp;&nbsp;&nbsp;&nbsp; a) Video on Algorithms <br>\n",
    " &nbsp;&nbsp;&nbsp;&nbsp; b) How it Works <br>\n",
    "5) <b>Exercises</b> <br>\n",
    " &nbsp;&nbsp;&nbsp;&nbsp; a) Exercise #1 - Reverse a List in Place Using an In-Place Algorithm <br>\n",
    " &nbsp;&nbsp;&nbsp;&nbsp; b) Exercise #2 - Find Distinct Words <br>\n",
    " &nbsp;&nbsp;&nbsp;&nbsp; c) Exercise #3 - Write a program to implement a Linear Search Algorithm. <br>"
   ]
  },
  {
   "cell_type": "markdown",
   "metadata": {},
   "source": [
    "## In-Place Algorithms"
   ]
  },
  {
   "cell_type": "markdown",
   "metadata": {},
   "source": [
    "#### Syntax"
   ]
  },
  {
   "cell_type": "code",
   "execution_count": 1,
   "metadata": {},
   "outputs": [
    {
     "name": "stdout",
     "output_type": "stream",
     "text": [
      "my_list before swap: [10, 20, 30]\n",
      "my_list after swap: [30, 10, 20]\n"
     ]
    }
   ],
   "source": [
    "# swap algorithm \n",
    "# var[i], var[i+1] = var[1+1], var[i]\n",
    "\n",
    "def swap(alist,x,y,z):\n",
    "    alist[x], alist[y], alist[z] = alist[z], alist[x], alist[y]\n",
    "    return alist\n",
    "\n",
    "my_list = [10,20,30]\n",
    "print(f\"my_list before swap: {my_list}\")\n",
    "swap(my_list,0,1,2)\n",
    "print(f\"my_list after swap: {my_list}\")\n"
   ]
  },
  {
   "cell_type": "markdown",
   "metadata": {},
   "source": [
    "#### Out of Place Algorithm"
   ]
  },
  {
   "cell_type": "code",
   "execution_count": null,
   "metadata": {},
   "outputs": [],
   "source": [
    "# In place version\n",
    "my_list.reverse()\n",
    "\n",
    "# Reversing a list Out of place\n",
    "my_list_copy = my_list[::-1]\n"
   ]
  },
  {
   "cell_type": "markdown",
   "metadata": {},
   "source": [
    "#### In-Class Exercise #1 <br>\n",
    "<p>Write a function that takes in four arguments (list, index1, index2, index3), and swaps those three positions in the list passed in.</p>"
   ]
  },
  {
   "cell_type": "code",
   "execution_count": 4,
   "metadata": {},
   "outputs": [
    {
     "name": "stdout",
     "output_type": "stream",
     "text": [
      "[4, 4, 10, 8, 3, 2, 6]\n"
     ]
    }
   ],
   "source": [
    "l_1 = [10, 4, 3, 8, 4, 2, 6]\n",
    "\n",
    "def swap_index(alist, index1, index2, index3):\n",
    "    alist[index1], alist[index2], alist[index3] = alist[index3], alist[index1], alist[index2]\n",
    "    return alist\n",
    "\n",
    "print(swap_index(l_1, 0, 2, 4))\n"
   ]
  },
  {
   "cell_type": "markdown",
   "metadata": {},
   "source": [
    "## Two Pointers"
   ]
  },
  {
   "cell_type": "markdown",
   "metadata": {},
   "source": [
    "#### Syntax"
   ]
  },
  {
   "cell_type": "code",
   "execution_count": 6,
   "metadata": {},
   "outputs": [
    {
     "data": {
      "text/plain": [
       "[88, 35, 12, 7, 5, 2, 1]"
      ]
     },
     "execution_count": 6,
     "metadata": {},
     "output_type": "execute_result"
    }
   ],
   "source": [
    "# alist[left], alist[right] = alist[right], alist[left]\n",
    "# use these pointers to swwap... this can be done in a loop\n",
    "\n",
    "def twoPointers(alist):\n",
    "    #creating pointers\n",
    "    left = 0\n",
    "    right = len(alist) - 1\n",
    "    \n",
    "    while left <= right:\n",
    "        #swap\n",
    "        alist[left],alist[right] = alist[right], alist[left]\n",
    "        left += 1 #incrementing\n",
    "        right -= 1 #decrementing\n",
    "    return alist\n",
    "\n",
    "my_list2 = [1,2,5,7,12,35,88]\n",
    "twoPointers(my_list2)"
   ]
  },
  {
   "cell_type": "markdown",
   "metadata": {},
   "source": [
    "#### Video of Algorithms <br>\n",
    "<p>Watch the video about algorithms.</p>\n",
    "\n",
    "https://www.youtube.com/watch?v=Q9HjeFD62Uk\n",
    "\n",
    "https://www.youtube.com/watch?v=kPRA0W1kECg\n",
    "\n",
    "https://www.youtube.com/watch?v=ZZuD6iUe3Pc"
   ]
  },
  {
   "cell_type": "markdown",
   "metadata": {},
   "source": [
    "# Sorting Algorithms"
   ]
  },
  {
   "cell_type": "markdown",
   "metadata": {},
   "source": [
    "#### Bubble Sort\n",
    "\n",
    "Worst Case: O(n^2) Time - O(1) Space"
   ]
  },
  {
   "cell_type": "code",
   "execution_count": 7,
   "metadata": {},
   "outputs": [
    {
     "data": {
      "text/plain": [
       "[1, 22, 34, 44, 55, 66, 88, 100]"
      ]
     },
     "execution_count": 7,
     "metadata": {},
     "output_type": "execute_result"
    }
   ],
   "source": [
    "def swap(i,j,array):\n",
    "    array[i],array[j] = array[j],array[i]\n",
    "    \n",
    "def bubbleSort(array):\n",
    "    \n",
    "    isSorted = False #flag\n",
    "    while not isSorted:\n",
    "        isSorted = True\n",
    "        for num in range(len(array)-1):\n",
    "            if array[num] > array[num+1]:\n",
    "                swap(num, num+1, array)\n",
    "                isSorted = False\n",
    "    return array\n",
    "\n",
    "bubbleSort([22,55,88,44,1,100,34,66])"
   ]
  },
  {
   "cell_type": "markdown",
   "metadata": {},
   "source": [
    "##### Insertion Sort\n",
    "\n",
    "Worst Case: O(n^2) time - O(1)space"
   ]
  },
  {
   "cell_type": "code",
   "execution_count": 9,
   "metadata": {},
   "outputs": [
    {
     "name": "stdout",
     "output_type": "stream",
     "text": [
      "[1, 22, 34, 44, 55, 66, 88, 100]\n"
     ]
    }
   ],
   "source": [
    "def swap(i,j,array):\n",
    "    array[i],array[j] = array[j],array[i]\n",
    "    \n",
    "def insertionSort(array):\n",
    "    for i in range(1,len(array)): # O(n)\n",
    "        while i > 0 and array[i] < array[i-1]:\n",
    "            swap(i, i-1, array)\n",
    "            i -= 1\n",
    "    return array\n",
    "\n",
    "print(insertionSort([22,55,88,44,1,100,34,66]))"
   ]
  },
  {
   "cell_type": "markdown",
   "metadata": {},
   "source": [
    "## Merge Sort"
   ]
  },
  {
   "cell_type": "markdown",
   "metadata": {},
   "source": [
    "#### How it Works"
   ]
  },
  {
   "cell_type": "code",
   "execution_count": 62,
   "metadata": {
    "scrolled": true
   },
   "outputs": [
    {
     "name": "stdout",
     "output_type": "stream",
     "text": [
      "[13, 7, 10, 0, 19]\n",
      "splitting... [13, 7, 10, 0, 19]\n",
      "splitting... [13, 7]\n",
      "splitting... [13]\n",
      "merging:  [13]\n",
      "splitting... [7]\n",
      "merging:  [7]\n",
      "merging:  [7, 13]\n",
      "splitting... [10, 0, 19]\n",
      "splitting... [10]\n",
      "merging:  [10]\n",
      "splitting... [0, 19]\n",
      "splitting... [0]\n",
      "merging:  [0]\n",
      "splitting... [19]\n",
      "merging:  [19]\n",
      "merging:  [0, 19]\n",
      "merging:  [0, 10, 19]\n",
      "merging:  [0, 7, 10, 13, 19]\n"
     ]
    }
   ],
   "source": [
    "# step 1 Split everything into it's own group\n",
    "# step 2 From left to right, merge the groups together (two at a time)\n",
    "# step 3 While merging, place each item in the correct position (in larger list)\n",
    "# step 4 Continue Step 3 and 4 until we have 1 group left\n",
    "\n",
    "from random import randint\n",
    "# generate random list of 5 numbers from 0 to 20\n",
    "nums = [randint(0,20) for i in range(5)]\n",
    "\n",
    "print(nums)\n",
    "\n",
    "def mergeSort(alist):\n",
    "    print(\"splitting...\", alist)\n",
    "    \n",
    "    #step 1 divide if not a single element\n",
    "    if len(alist) > 1:\n",
    "        mid = len(alist)//2\n",
    "        lefthalf = alist[:mid]\n",
    "        righthalf = alist[mid:]\n",
    "        \n",
    "        # Recursively call mergeSort on the halves\n",
    "        # Then merge once they're all split up\n",
    "        \n",
    "        mergeSort(lefthalf)\n",
    "        mergeSort(righthalf)\n",
    "        \n",
    "        #index pointers for list\n",
    "        left = 0 # left half pointer\n",
    "        right = 0 # right half pointer\n",
    "        main = 0 # main array pointer\n",
    "        \n",
    "        #step 2 compare the half\n",
    "        while left < len(lefthalf) and right <len(righthalf):\n",
    "            if lefthalf[left] < righthalf[right]:\n",
    "                alist[main] = lefthalf[left]\n",
    "                left += 1\n",
    "            else:\n",
    "                alist[main] = righthalf[right]\n",
    "                right += 1\n",
    "            main += 1\n",
    "        #step 3 merge and place items in correct position\n",
    "        while left < len(lefthalf):\n",
    "            alist[main] = lefthalf[left]\n",
    "            left += 1\n",
    "            main += 1\n",
    "        while right < len(righthalf):\n",
    "            alist[main] = righthalf[right]\n",
    "            right += 1\n",
    "            main += 1\n",
    "    print('merging: ', alist)\n",
    "    \n",
    "mergeSort(nums)"
   ]
  },
  {
   "cell_type": "markdown",
   "metadata": {},
   "source": [
    "# Binary Search\n",
    "\n",
    "The Binary Search algorithm works by finding the number in the middle of a given array and comparing it to the target. Given that the array is sorted\n",
    "\n",
    "* The worst case run time for this algorithm is `O(log(n))`"
   ]
  },
  {
   "cell_type": "code",
   "execution_count": 63,
   "metadata": {},
   "outputs": [
    {
     "data": {
      "text/plain": [
       "'The index of 19 is 4.'"
      ]
     },
     "execution_count": 63,
     "metadata": {},
     "output_type": "execute_result"
    }
   ],
   "source": [
    "# The list must be sorted\n",
    "\n",
    "def binarySearchHelperFunction(array, target, left, right):\n",
    "    while left <= right:\n",
    "        middle = (left + right) // 2\n",
    "        potential_match = array[middle]\n",
    "        if target == potential_match:\n",
    "            return f\"The index of {target} is {middle}.\"\n",
    "        elif target < potential_match:\n",
    "            right = middle - 1\n",
    "        else:\n",
    "            left = middle + 1\n",
    "    return -1\n",
    "\n",
    "def binarySearch(array, target):\n",
    "    return binarySearchHelperFunction(array, target, 0, len(array)-1)\n",
    "\n",
    "binarySearch(nums, 19)\n",
    "            "
   ]
  },
  {
   "cell_type": "markdown",
   "metadata": {},
   "source": [
    "# Exercises"
   ]
  },
  {
   "cell_type": "markdown",
   "metadata": {},
   "source": [
    "### Exercise #1 <br>\n",
    "<p>Reverse the list below in-place using an in-place algorithm.<br>For extra credit: Reverse the strings at the same time.</p>"
   ]
  },
  {
   "cell_type": "code",
   "execution_count": 10,
   "metadata": {},
   "outputs": [
    {
     "data": {
      "text/plain": [
       "['.', 'sentence', 'a', 'is', 'this']"
      ]
     },
     "execution_count": 10,
     "metadata": {},
     "output_type": "execute_result"
    }
   ],
   "source": [
    "words = ['this' , 'is', 'a', 'sentence', '.']\n",
    "\n",
    "def reverse(alist):\n",
    "    #creating pointers\n",
    "    left = 0\n",
    "    right = len(alist) - 1\n",
    "    \n",
    "    while left <= right:\n",
    "        #swap\n",
    "        alist[left],alist[right] = alist[right], alist[left]\n",
    "        left += 1 #incrementing\n",
    "        right -= 1 #decrementing\n",
    "    return alist\n",
    "\n",
    "reverse(words)"
   ]
  },
  {
   "cell_type": "code",
   "execution_count": 44,
   "metadata": {},
   "outputs": [
    {
     "data": {
      "text/plain": [
       "['.', 'ecnetnes', 'a', 'si', 'siht']"
      ]
     },
     "execution_count": 44,
     "metadata": {},
     "output_type": "execute_result"
    }
   ],
   "source": [
    "#Extra credit\n",
    "words = ['this' , 'is', 'a', 'sentence', '.']\n",
    "\n",
    "def reverse(alist):\n",
    "    #creating pointers\n",
    "    new = []\n",
    "    for i in alist:\n",
    "        word = list(i)\n",
    "        left = 0\n",
    "        right = len(word) - 1\n",
    "        while left <= right:\n",
    "            #swap\n",
    "            word[left],word[right] = word[right], word[left]\n",
    "            left += 1 #incrementing\n",
    "            right -= 1 #decrementing\n",
    "            rev = ''.join(word)\n",
    "        new.append(rev)\n",
    "        \n",
    "        #creating pointers\n",
    "    left = 0\n",
    "    right = len(new) - 1\n",
    "    \n",
    "    while left <= right:\n",
    "        #swap\n",
    "        new[left],new[right] = new[right], new[left]\n",
    "        left += 1 #incrementing\n",
    "        right -= 1 #decrementing\n",
    "    return new\n",
    "\n",
    "reverse(words)"
   ]
  },
  {
   "cell_type": "markdown",
   "metadata": {},
   "source": [
    "### Exercise #2 <br>\n",
    "<p>Create a function that counts how many distinct words are in the string below, then outputs a dictionary with the words as the key and the value as the amount of times that word appears in the string.<br>Should output:<br>{'a': 5,<br>\n",
    " 'abstract': 1,<br>\n",
    " 'an': 3,<br>\n",
    " 'array': 2, ... etc...</p>"
   ]
  },
  {
   "cell_type": "code",
   "execution_count": 64,
   "metadata": {},
   "outputs": [
    {
     "data": {
      "text/plain": [
       "{'A': 1,\n",
       " 'In': 1,\n",
       " 'a': 2,\n",
       " 'abstract': 1,\n",
       " 'an': 2,\n",
       " 'array': 2,\n",
       " 'associative': 1,\n",
       " 'be': 1,\n",
       " 'buckets': 1,\n",
       " 'can': 2,\n",
       " 'compute': 1,\n",
       " 'computing,': 1,\n",
       " 'data': 2,\n",
       " 'desired': 1,\n",
       " 'found': 1,\n",
       " 'from': 1,\n",
       " 'function': 1,\n",
       " 'hash': 2,\n",
       " 'implements': 1,\n",
       " 'index': 1,\n",
       " 'into': 1,\n",
       " 'is': 1,\n",
       " 'keys': 1,\n",
       " 'map': 2,\n",
       " 'of': 1,\n",
       " 'or': 1,\n",
       " 'slots': 1,\n",
       " 'structure': 2,\n",
       " 'table': 2,\n",
       " 'that': 1,\n",
       " 'the': 1,\n",
       " 'to': 2,\n",
       " 'type,': 1,\n",
       " 'uses': 1,\n",
       " 'value': 1,\n",
       " 'values.': 1,\n",
       " 'which': 2}"
      ]
     },
     "execution_count": 64,
     "metadata": {},
     "output_type": "execute_result"
    }
   ],
   "source": [
    "a_text = 'In computing, a hash table hash map is a data structure which implements an associative array abstract data type, a structure that can map keys to values. A hash table uses a hash function to compute an index into an array of buckets or slots from which the desired value can be found'\n",
    "\n",
    "def countdict(string):\n",
    "    count = string.split()\n",
    "    output = {}\n",
    "    for i in sorted(count):\n",
    "        x = 1\n",
    "        if i not in output:\n",
    "            output[i] = x\n",
    "        else:\n",
    "            output[i] = x + 1\n",
    "    return output\n",
    "        \n",
    "countdict(a_text)"
   ]
  },
  {
   "cell_type": "markdown",
   "metadata": {},
   "source": [
    "## Exercise #3\n",
    "\n",
    "Write a program to implement a Linear Search Algorithm. Also in a comment, write the Time Complexity of the following algorithm.\n",
    "\n",
    "#### Hint: Linear Searching will require searching a list for a given number. "
   ]
  },
  {
   "cell_type": "code",
   "execution_count": 73,
   "metadata": {},
   "outputs": [
    {
     "name": "stdout",
     "output_type": "stream",
     "text": [
      "[10, 4, 4, 6, 5, 1, 1, 1]\n"
     ]
    },
    {
     "data": {
      "text/plain": [
       "'The index of 6 is 6.'"
      ]
     },
     "execution_count": 73,
     "metadata": {},
     "output_type": "execute_result"
    }
   ],
   "source": [
    "from random import randint\n",
    "nums = [randint(0,10) for i in range(8)]\n",
    "\n",
    "def swap(i,j,array):\n",
    "    array[i],array[j] = array[j],array[i]\n",
    "    \n",
    "def insertionSort(array):\n",
    "    for i in range(1,len(array)): # O(n)\n",
    "        while i > 0 and array[i] < array[i-1]:\n",
    "            swap(i, i-1, array)\n",
    "            i -= 1\n",
    "    return array    \n",
    "\n",
    "\n",
    "def binarySearchHelperFunction(array, target, left, right):\n",
    "    while left <= right:\n",
    "        middle = (left + right) // 2\n",
    "        potential_match = array[middle]\n",
    "        if target == potential_match:\n",
    "            return f\"The index of {target} is {middle}.\"\n",
    "        elif target < potential_match:\n",
    "            right = middle - 1\n",
    "        else:\n",
    "            left = middle + 1\n",
    "    return f\"{target} is not in the list.\"\n",
    "\n",
    "def binarySearch(array, target):\n",
    "    sort = insertionSort(array)\n",
    "    return binarySearchHelperFunction(sort, target, 0, len(sort)-1)\n",
    "\n",
    "print(nums)\n",
    "binarySearch(nums, 6)"
   ]
  },
  {
   "cell_type": "code",
   "execution_count": null,
   "metadata": {},
   "outputs": [],
   "source": []
  },
  {
   "cell_type": "code",
   "execution_count": null,
   "metadata": {},
   "outputs": [],
   "source": []
  }
 ],
 "metadata": {
  "kernelspec": {
   "display_name": "Python 3 (ipykernel)",
   "language": "python",
   "name": "python3"
  },
  "language_info": {
   "codemirror_mode": {
    "name": "ipython",
    "version": 3
   },
   "file_extension": ".py",
   "mimetype": "text/x-python",
   "name": "python",
   "nbconvert_exporter": "python",
   "pygments_lexer": "ipython3",
   "version": "3.9.7"
  }
 },
 "nbformat": 4,
 "nbformat_minor": 2
}
